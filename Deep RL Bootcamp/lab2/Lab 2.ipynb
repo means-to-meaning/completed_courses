{
 "cells": [
  {
   "cell_type": "code",
   "execution_count": 1,
   "metadata": {
    "collapsed": true
   },
   "outputs": [],
   "source": [
    "\"\"\"\n",
    "This project was developed by Peter Chen, Rocky Duan, Pieter Abbeel for the Berkeley Deep RL Bootcamp, August 2017.\n",
    "Bootcamp website with slides and lecture videos: https://sites.google.com/view/deep-rl-bootcamp/.\n",
    "\n",
    "Code adapted from Stanford CS231N materials: http://cs231n.stanford.edu/\n",
    "\"\"\"\n",
    "\n",
    "\n",
    "# note to properly run this lab, you should execute all code blocks sequentially\n",
    "import chainer\n",
    "import chainer.functions as F\n",
    "import chainer.links as L\n",
    "from chainer import training\n",
    "from chainer.training import extensions\n",
    "\n",
    "from collections import namedtuple, defaultdict, deque\n",
    "\n",
    "import numpy as np\n",
    "\n",
    "%matplotlib inline\n",
    "\n",
    "import matplotlib\n",
    "import matplotlib.pyplot as plt"
   ]
  },
  {
   "cell_type": "markdown",
   "metadata": {},
   "source": [
    "## Introduction to Chainer\n",
    "\n",
    "Chainer can be understood as Numpy plus the ability to record the computation graph of numerical operations to enable Automatic Differentiation. (Chainer actually also offers many other things; for example, a Numpy equivalent library that runs on GPU, but we will ignore them for now)"
   ]
  },
  {
   "cell_type": "markdown",
   "metadata": {},
   "source": [
    "Let's illustrate how Chainer works by a simple 1D regression task.\n",
    "\n",
    "Suppose we have observations from the following model $y = w x + b + \\epsilon$ where $\\epsilon \\sim \\mathcal{N}(0, 0.1)$ and the task is to estimate the linear model parameters $w, b$ from data."
   ]
  },
  {
   "cell_type": "code",
   "execution_count": 3,
   "metadata": {},
   "outputs": [
    {
     "data": {
      "image/png": "[encoded data removed]",
      "text/plain": [
       "<matplotlib.figure.Figure at 0x106722b00>"
      ]
     },
     "metadata": {},
     "output_type": "display_data"
    }
   ],
   "source": [
    "# first generate some observations\n",
    "true_a = 1.3\n",
    "true_b = 0.4\n",
    "data_x = (np.arange(100) / 99.0 - .5).astype(np.float32) # Chainer assumes all the cpu computation is done in float32\n",
    "data_y = (data_x * true_a + true_b + np.random.randn(*data_x.shape) * 0.1).astype(np.float32)\n",
    "_ = plt.scatter(data_x, data_y, c='b')"
   ]
  },
  {
   "cell_type": "markdown",
   "metadata": {},
   "source": [
    "Chainer provides an abstraction called `Link` that describe some computation and keeps track of parameters for it. For instance, a `Linear` link describes a linear map on input and keeps track of `w` and bias `b`."
   ]
  },
  {
   "cell_type": "code",
   "execution_count": 4,
   "metadata": {},
   "outputs": [
    {
     "name": "stdout",
     "output_type": "stream",
     "text": [
      "w: variable W([[-1.50475299]])\n",
      "b: variable b([ 0.])\n",
      "Operations on chainer.Variable: variable([[ 121.49524689]]), type: <class 'chainer.variable.Variable'>\n",
      "numpy arrays: [[-1.50475299]] [[ 121.49524689]]\n"
     ]
    }
   ],
   "source": [
    "model = L.Linear(in_size=1, out_size=1) # input is 1D data and output is also 1D data\n",
    "\n",
    "# Chainer will randomly initialize `w` and `b` for us.\n",
    "# we can take a look at their values\n",
    "print(\"w:\", model.W)\n",
    "print(\"b:\", model.b)\n",
    "\n",
    "# model.W and model.b have type `chainer.Variable`, \n",
    "#   which is a wrapper around Numpy array\n",
    "assert isinstance(model.W, chainer.Variable)\n",
    "\n",
    "# operations that involve `chainer.Variable` will produce\n",
    "#   `chainer.Variable` and this records the computation graph\n",
    "var_result = model.W + 123 # some random computation\n",
    "print(\"Operations on chainer.Variable: %s, type: %s\" % (var_result, type(var_result)))\n",
    "\n",
    "# the underlying numpy array can be accessed by `data` attribute\n",
    "print(\"numpy arrays:\", model.W.data, var_result.data)"
   ]
  },
  {
   "cell_type": "code",
   "execution_count": 5,
   "metadata": {},
   "outputs": [
    {
     "data": {
      "image/png": "[encoded data removed]",
      "text/plain": [
       "<matplotlib.figure.Figure at 0x1123d65f8>"
      ]
     },
     "metadata": {},
     "output_type": "display_data"
    }
   ],
   "source": [
    "# A chainer link is a callable object. calling it performs the\n",
    "#   forward computation. (in this case, it performs Wx + b)\n",
    "model_y = model(data_x[:, None]) # chainer's link usually assumes input is [Batch Size, Input Dimension]\n",
    "# `model_y` is a chainer variable so we use `.data` to access its numpy array for plotting\n",
    "\n",
    "# we can plot the model's current fit in red. it should be terrible because we haven't trained it yet\n",
    "_ = plt.plot(data_x, model_y.data[:,0], c='r')\n",
    "_ = plt.scatter(data_x, data_y, c='b')\n",
    "_ = plt.title(\"Initial model\")"
   ]
  },
  {
   "cell_type": "code",
   "execution_count": 5,
   "metadata": {},
   "outputs": [
    {
     "name": "stdout",
     "output_type": "stream",
     "text": [
      "loss variable(0.8460384011268616)\n",
      "dloss/dW [[-0.48167396]]\n"
     ]
    }
   ],
   "source": [
    "# now let's walk through how to perform forward computation\n",
    "#  and use AD to get gradients\n",
    "\n",
    "# first we clear the gradients that are stored in the model\n",
    "model.cleargrads()\n",
    "# as we have seen we can perform forward computation by calling the link\n",
    "model_y = model(data_x[:, None])\n",
    "\n",
    "# remember that `model_y` is a chainer variable. to operate on chainer variable\n",
    "#    we will use functions from chainer.functions to operate on those objects.\n",
    "loss = F.mean(F.square(model_y - data_y[:, None]))\n",
    "# `loss` is a scalar chainer variable\n",
    "assert isinstance(loss, chainer.Variable)\n",
    "print(\"loss\", loss)\n",
    "# calculating gradients d loss /d params is as simple as\n",
    "loss.backward()\n",
    "\n",
    "# we can inspect the gradient of loss with respect to W\n",
    "print(\"dloss/dW\", model.W.grad)"
   ]
  },
  {
   "cell_type": "markdown",
   "metadata": {},
   "source": [
    "Now that we know how to calculate gradients, we can code up a simple loop to perform gradient descent to train this model:\n",
    "\n",
    "(Hint: if you run into weird problems, maybe the state has been messed up and you can try re-runing all the code blocks from the beginning)"
   ]
  },
  {
   "cell_type": "code",
   "execution_count": 7,
   "metadata": {},
   "outputs": [
    {
     "name": "stdout",
     "output_type": "stream",
     "text": [
      "Itr 0 loss: variable(0.17311613261699677)\n",
      "Itr 25 loss: variable(0.011933782137930393)\n",
      "Itr 50 loss: variable(0.009654020890593529)\n",
      "Itr 75 loss: variable(0.00868781004101038)\n"
     ]
    },
    {
     "data": {
      "image/png": "[encoded data removed]",
      "text/plain": [
       "<matplotlib.figure.Figure at 0x1097a1630>"
      ]
     },
     "metadata": {},
     "output_type": "display_data"
    },
    {
     "data": {
      "image/png": "[encoded data removed]",
      "text/plain": [
       "<matplotlib.figure.Figure at 0x1098c2ba8>"
      ]
     },
     "metadata": {},
     "output_type": "display_data"
    }
   ],
   "source": [
    "# now we can perform gradient descent to improve this model\n",
    "model = L.Linear(in_size=1, out_size=1)\n",
    "losses = []\n",
    "alpha = 0.1\n",
    "for i in range(100):\n",
    "    model.cleargrads()\n",
    "    loss = F.mean(F.square(model(data_x[:, None]) - data_y[:, None]))\n",
    "    losses.append(float(loss.data))\n",
    "    ## *** YOUR CODE HERE TO PERFORM GRADIENT DESCENT ***\n",
    "    ## Hint: you could access gradients with model.W.grad, model.b.grad\n",
    "    ## Hint2: you could write data into a parameter with model.W.data[:] = some_numpy_array\n",
    "    ## Hint3: if your model doesn't learn, remember to try different learning rates\n",
    "    loss.backward()\n",
    "    model.W.data[:] = model.W.data[:] - alpha * model.W.grad\n",
    "    model.b.data[:] = model.b.data[:] - alpha * model.b.grad\n",
    "    if i % 25 == 0:\n",
    "        print(\"Itr\", i, \"loss:\", loss)\n",
    "plt.plot(np.array(losses))\n",
    "plt.title(\"Learning curve\")\n",
    "plt.figure()\n",
    "plt.plot(data_x, model(data_x[:, None])[:,0].data, c='r')\n",
    "plt.scatter(data_x, data_y, c='b')\n",
    "_ = plt.title(\"Trained model fitness\")\n"
   ]
  },
  {
   "cell_type": "markdown",
   "metadata": {},
   "source": [
    "## Train your first deep model\n",
    "\n",
    "Now we have learned the basics of Chainer. We can use it to train a deep model to classify MNIST digits. We will train a model on the MNIST dataset because the dataset is small.\n",
    "\n",
    "First we load the data and see what the images look like:"
   ]
  },
  {
   "cell_type": "code",
   "execution_count": 8,
   "metadata": {
    "scrolled": false
   },
   "outputs": [
    {
     "name": "stdout",
     "output_type": "stream",
     "text": [
      "Downloading from http://yann.lecun.com/exdb/mnist/train-images-idx3-ubyte.gz...\n",
      "Downloading from http://yann.lecun.com/exdb/mnist/train-labels-idx1-ubyte.gz...\n",
      "Downloading from http://yann.lecun.com/exdb/mnist/t10k-images-idx3-ubyte.gz...\n",
      "Downloading from http://yann.lecun.com/exdb/mnist/t10k-labels-idx1-ubyte.gz...\n",
      "train[i][0] is the ith image that's flattened, and has shape: (784,)\n",
      "train[i][1] is the ith image's label, such as: 3\n"
     ]
    },
    {
     "data": {
      "image/png": "[encoded data removed]",
      "text/plain": [
       "<matplotlib.figure.Figure at 0x109751668>"
      ]
     },
     "metadata": {},
     "output_type": "display_data"
    },
    {
     "data": {
      "image/png": "[encoded data removed]",
      "text/plain": [
       "<matplotlib.figure.Figure at 0x109751cc0>"
      ]
     },
     "metadata": {},
     "output_type": "display_data"
    }
   ],
   "source": [
    "train, test = chainer.datasets.get_mnist()\n",
    "# use train[data_point_index] to access data\n",
    "print(\"train[i][0] is the ith image that's flattened, and has shape:\", train[12][0].shape)\n",
    "print(\"train[i][1] is the ith image's label, such as:\", train[12][1])\n",
    "# here we visualize two of them\n",
    "plt.imshow(train[12][0].reshape([28, 28,]))\n",
    "plt.title(\"Label: %s\" % train[12][1])\n",
    "plt.figure()\n",
    "plt.imshow(train[42][0].reshape([28, 28,]))\n",
    "_ = plt.title(\"Label: %s\" % train[42][1])"
   ]
  },
  {
   "cell_type": "markdown",
   "metadata": {},
   "source": [
    "Next we will provide some boilerplate code and train a linear classifier as an example:"
   ]
  },
  {
   "cell_type": "code",
   "execution_count": 9,
   "metadata": {},
   "outputs": [
    {
     "name": "stdout",
     "output_type": "stream",
     "text": [
      "loss: 2.40273523331; accuracy: 0.0625\n",
      "loss: 0.599673388004; accuracy: 0.855\n",
      "loss: 0.54248754859; accuracy: 0.85\n",
      "loss: 0.366028468013; accuracy: 0.915\n",
      "loss: 0.39999207437; accuracy: 0.885\n",
      "loss: 0.369256096482; accuracy: 0.8975\n",
      "loss: 0.406642808914; accuracy: 0.9\n",
      "loss: 0.398316270709; accuracy: 0.895\n",
      "loss: 0.28598151505; accuracy: 0.9175\n",
      "loss: 0.33281955421; accuracy: 0.9125\n",
      "loss: 0.341621744633; accuracy: 0.905\n",
      "loss: 0.315520752072; accuracy: 0.9125\n",
      "loss: 0.304918221831; accuracy: 0.8925\n",
      "loss: 0.312395681739; accuracy: 0.9025\n",
      "loss: 0.296371960342; accuracy: 0.895\n",
      "loss: 0.289723816514; accuracy: 0.915\n",
      "loss: 0.245721681416; accuracy: 0.93\n",
      "loss: 0.354775988758; accuracy: 0.91\n",
      "loss: 0.313206702471; accuracy: 0.905\n",
      "loss: 0.318010869026; accuracy: 0.9125\n",
      "loss: 0.353392977417; accuracy: 0.9025\n",
      "loss: 0.281065226197; accuracy: 0.9275\n",
      "loss: 0.374806753099; accuracy: 0.915\n",
      "loss: 0.295770441592; accuracy: 0.9125\n",
      "loss: 0.255322515965; accuracy: 0.935\n",
      "loss: 0.316835299134; accuracy: 0.9075\n"
     ]
    }
   ],
   "source": [
    "def run(model, batchsize=16, num_epochs=2):\n",
    "    \n",
    "    optimizer = chainer.optimizers.Adam() # we will use chainer's Adam implementation instead of writing our own gradient based optimization\n",
    "    optimizer.setup(model)\n",
    "    \n",
    "    stats = defaultdict(lambda: deque(maxlen=25))\n",
    "    for epoch in range(num_epochs):\n",
    "        train_iter = chainer.iterators.SerialIterator(train, batchsize, repeat=False, shuffle=True)\n",
    "        test_iter = chainer.iterators.SerialIterator(test, batchsize, repeat=False, shuffle=False)\n",
    "        \n",
    "        for itr, batch in enumerate(train_iter):\n",
    "            xs = np.concatenate([datum[0][None, :] for datum in batch])\n",
    "            ys = np.array([datum[1] for datum in batch])\n",
    "\n",
    "            logits = model(xs)\n",
    "\n",
    "            loss = F.softmax_cross_entropy(logits, ys)\n",
    "            model.cleargrads()\n",
    "            loss.backward()\n",
    "            optimizer.update()\n",
    "            \n",
    "            # calculate stats\n",
    "            stats[\"loss\"].append(float(loss.data))\n",
    "            stats[\"accuracy\"].append(float((logits.data.argmax(1) == ys).sum() / batchsize))\n",
    "            if itr % 300 == 0:\n",
    "                print(\"; \".join(\"%s: %s\" % (k, np.mean(vs)) for k, vs in stats.items()))\n",
    "\n",
    "# try a simple linear model\n",
    "run(L.Linear(None, 10))"
   ]
  },
  {
   "cell_type": "markdown",
   "metadata": {},
   "source": [
    "Next we will try to improve performance by training an MLP instead. A partial implementation is provided for you to fill in:"
   ]
  },
  {
   "cell_type": "code",
   "execution_count": 10,
   "metadata": {},
   "outputs": [
    {
     "name": "stdout",
     "output_type": "stream",
     "text": [
      "loss: 2.43216133118; accuracy: 0.0625\n",
      "loss: 0.373258225918; accuracy: 0.9025\n",
      "loss: 0.268960491419; accuracy: 0.915\n",
      "loss: 0.162577407658; accuracy: 0.9525\n",
      "loss: 0.205809816122; accuracy: 0.955\n",
      "loss: 0.172135838568; accuracy: 0.955\n",
      "loss: 0.140500258207; accuracy: 0.9525\n",
      "loss: 0.148809768558; accuracy: 0.9575\n",
      "loss: 0.172095946074; accuracy: 0.935\n",
      "loss: 0.145922772288; accuracy: 0.95\n",
      "loss: 0.121110756099; accuracy: 0.96\n",
      "loss: 0.0792235279083; accuracy: 0.9775\n",
      "loss: 0.113557876348; accuracy: 0.9575\n",
      "loss: 0.11833344996; accuracy: 0.9625\n",
      "loss: 0.110824374557; accuracy: 0.955\n",
      "loss: 0.0985297203064; accuracy: 0.97\n",
      "loss: 0.11605615437; accuracy: 0.9675\n",
      "loss: 0.0894972229004; accuracy: 0.975\n",
      "loss: 0.110496003926; accuracy: 0.9575\n",
      "loss: 0.093513315022; accuracy: 0.9675\n",
      "loss: 0.0982524892688; accuracy: 0.965\n",
      "loss: 0.057336627841; accuracy: 0.9825\n",
      "loss: 0.0860689049959; accuracy: 0.9775\n",
      "loss: 0.0761633762717; accuracy: 0.975\n",
      "loss: 0.0889230823517; accuracy: 0.9775\n",
      "loss: 0.0385186386108; accuracy: 0.9875\n"
     ]
    }
   ],
   "source": [
    "class MLP(chainer.Chain):\n",
    "\n",
    "    def __init__(self, n_units, n_out):\n",
    "        super(MLP, self).__init__()\n",
    "        with self.init_scope():\n",
    "            # the size of the inputs to each layer will be inferred\n",
    "            self.l1 = L.Linear(None, n_units)  # n_in -> n_units\n",
    "            self.l2 = L.Linear(None, n_units)  # n_units -> n_units\n",
    "            self.l3 = L.Linear(None, n_out)  # n_units -> n_out\n",
    "\n",
    "    def __call__(self, x):\n",
    "        # *** YOUR CODE HERE TO BUILD AN MLP W/ self.l1, self.l2, self.l3 ***\n",
    "        # \n",
    "        # Hint: you should make use of non-linearities / activation functions\n",
    "        #     https://docs.chainer.org/en/stable/reference/functions.html#activation-functions\n",
    "        h = F.relu(self.l1(x))\n",
    "        h = F.sigmoid(self.l2(h))\n",
    "        return self.l3(h)\n",
    "run(MLP(200, 10))"
   ]
  },
  {
   "cell_type": "markdown",
   "metadata": {},
   "source": [
    "Next you should try to implement logging test loss and see if the model is overfitting."
   ]
  },
  {
   "cell_type": "code",
   "execution_count": 23,
   "metadata": {},
   "outputs": [
    {
     "name": "stdout",
     "output_type": "stream",
     "text": [
      "test_loss: 2.34492813492; loss: 2.42132282257; test_accuracy: 0.0958; accuracy: 0.125\n",
      "test_loss: 0.354796354198; loss: 0.349620038271; test_accuracy: 0.8993; accuracy: 0.9075\n",
      "test_loss: 0.267890626013; loss: 0.292126216888; test_accuracy: 0.9197; accuracy: 0.91\n",
      "test_loss: 0.211795775163; loss: 0.19446955204; test_accuracy: 0.937; accuracy: 0.9475\n",
      "test_loss: 0.191315709794; loss: 0.213498452306; test_accuracy: 0.943; accuracy: 0.945\n",
      "test_loss: 0.177778792095; loss: 0.144629928172; test_accuracy: 0.9463; accuracy: 0.95\n",
      "test_loss: 0.154650377858; loss: 0.193713754416; test_accuracy: 0.953; accuracy: 0.9425\n",
      "test_loss: 0.15662715441; loss: 0.150412746668; test_accuracy: 0.9523; accuracy: 0.9575\n",
      "test_loss: 0.149055916739; loss: 0.123978385627; test_accuracy: 0.9527; accuracy: 0.96\n",
      "test_loss: 0.127544751155; loss: 0.158588370681; test_accuracy: 0.9604; accuracy: 0.955\n",
      "test_loss: 0.123533158779; loss: 0.123341181874; test_accuracy: 0.961; accuracy: 0.9675\n",
      "test_loss: 0.130218363094; loss: 0.175802878141; test_accuracy: 0.9597; accuracy: 0.945\n",
      "test_loss: 0.115381486487; loss: 0.096452203095; test_accuracy: 0.9653; accuracy: 0.9675\n",
      "test_loss: 0.108976750612; loss: 0.106417850852; test_accuracy: 0.9667; accuracy: 0.9625\n",
      "test_loss: 0.100358958292; loss: 0.0977923730016; test_accuracy: 0.9681; accuracy: 0.9725\n",
      "test_loss: 0.09977468611; loss: 0.0714063087106; test_accuracy: 0.9684; accuracy: 0.975\n",
      "test_loss: 0.0999058318734; loss: 0.0629796221852; test_accuracy: 0.9683; accuracy: 0.9775\n",
      "test_loss: 0.122102585244; loss: 0.158942513764; test_accuracy: 0.9636; accuracy: 0.9475\n",
      "test_loss: 0.0980036934972; loss: 0.0804756039381; test_accuracy: 0.9704; accuracy: 0.9775\n",
      "test_loss: 0.0956404624581; loss: 0.100929031968; test_accuracy: 0.9704; accuracy: 0.98\n",
      "test_loss: 0.0925763637424; loss: 0.0946850112081; test_accuracy: 0.9701; accuracy: 0.975\n",
      "test_loss: 0.0893126572967; loss: 0.0841453301907; test_accuracy: 0.9726; accuracy: 0.9625\n",
      "test_loss: 0.10293467977; loss: 0.134157568514; test_accuracy: 0.9661; accuracy: 0.9575\n",
      "test_loss: 0.0890804202318; loss: 0.0800188609958; test_accuracy: 0.9749; accuracy: 0.9775\n",
      "test_loss: 0.0945230164647; loss: 0.101485855281; test_accuracy: 0.9693; accuracy: 0.97\n",
      "test_loss: 0.0868561084509; loss: 0.0810530862212; test_accuracy: 0.9737; accuracy: 0.9825\n"
     ]
    }
   ],
   "source": [
    "def better_run(model, batchsize=16, num_epochs=2):\n",
    "\n",
    "    optimizer = chainer.optimizers.Adam() # we will use chainer's Adam implementation instead of writing our own gradient based optimization\n",
    "    optimizer.setup(model)\n",
    "    \n",
    "    stats = defaultdict(lambda: deque(maxlen=25))\n",
    "    for epoch in range(num_epochs):\n",
    "        train_iter = chainer.iterators.SerialIterator(train, batchsize, repeat=False, shuffle=True)\n",
    "        for itr, batch in enumerate(train_iter):\n",
    "            xs = np.concatenate([datum[0][None, :] for datum in batch])\n",
    "            ys = np.array([datum[1] for datum in batch])\n",
    "\n",
    "            logits = model(xs)\n",
    "\n",
    "            loss = F.softmax_cross_entropy(logits, ys)\n",
    "            model.cleargrads()\n",
    "            loss.backward()\n",
    "            optimizer.update()\n",
    "            \n",
    "            # calculate stats\n",
    "            stats[\"loss\"].append(float(loss.data))\n",
    "            stats[\"accuracy\"].append(float((logits.data.argmax(1) == ys).sum() / batchsize))\n",
    "            if itr % 300 == 0:\n",
    "                stats[\"test_loss\"] = []\n",
    "                stats[\"test_accuracy\"] = []\n",
    "                test_iter = chainer.iterators.SerialIterator(test, batchsize, repeat=False, shuffle=False)\n",
    "                for _, test_batch in enumerate(test_iter):\n",
    "                    xs_test = np.concatenate([datum[0][None, :] for datum in test_batch])\n",
    "                    ys_test = np.array([datum[1] for datum in test_batch])\n",
    "                    test_logits = model(xs_test)\n",
    "                    loss_test = F.softmax_cross_entropy(test_logits, ys_test)\n",
    "                    stats[\"test_loss\"].append(float(loss_test.data))\n",
    "                    stats[\"test_accuracy\"].append(float((test_logits.data.argmax(1) == ys_test).sum() / batchsize))\n",
    "                print(\"; \".join(\"%s: %s\" % (k, np.mean(vs)) for k, vs in stats.items()))\n",
    "\n",
    "better_run(MLP(200, 10))"
   ]
  },
  {
   "cell_type": "markdown",
   "metadata": {},
   "source": [
    "Try different variants!\n",
    "\n",
    "- Does using a ConvNet improve performance (reduce overfitting?)\n",
    "- Try changing the learning rate and observe the effect\n",
    "- Does the model train if you give it correlated gradients? (consecutively sample many batches of \"1\", then many batches of \"2\", ... etc"
   ]
  }
 ],
 "metadata": {
  "kernelspec": {
   "display_name": "Python 3",
   "language": "python",
   "name": "python3"
  },
  "language_info": {
   "codemirror_mode": {
    "name": "ipython",
    "version": 3
   },
   "file_extension": ".py",
   "mimetype": "text/x-python",
   "name": "python",
   "nbconvert_exporter": "python",
   "pygments_lexer": "ipython3",
   "version": "3.5.3"
  }
 },
 "nbformat": 4,
 "nbformat_minor": 1
}
